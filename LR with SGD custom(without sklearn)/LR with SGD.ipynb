{
 "cells": [
  {
   "cell_type": "markdown",
   "metadata": {},
   "source": [
    "<h2>In this notebook a custom implementation of logisitc regression using Stochastic Gradient Descent is Implemented and asserted</h2>"
   ]
  },
  {
   "cell_type": "markdown",
   "metadata": {},
   "source": [
    "<h4>First we create a dataset and check the results for sklearn's implementation of Logisitc Regression</h4>"
   ]
  },
  {
   "cell_type": "code",
   "execution_count": 1,
   "metadata": {
    "colab": {},
    "colab_type": "code",
    "id": "42Et8BKIxnsp"
   },
   "outputs": [],
   "source": [
    "import numpy as np\n",
    "import pandas as pd\n",
    "from sklearn.datasets import make_classification\n",
    "from sklearn.model_selection import train_test_split\n",
    "from sklearn.preprocessing import StandardScaler\n",
    "from sklearn import linear_model"
   ]
  },
  {
   "cell_type": "code",
   "execution_count": 2,
   "metadata": {
    "colab": {},
    "colab_type": "code",
    "id": "BsMp0oWzx6dv"
   },
   "outputs": [],
   "source": [
    "\n",
    "X, y = make_classification(n_samples=50000, n_features=15, n_informative=10, n_redundant=5,\n",
    "                           n_classes=2, weights=[0.7], class_sep=0.7, random_state=15)\n"
   ]
  },
  {
   "cell_type": "code",
   "execution_count": 428,
   "metadata": {
    "colab": {
     "base_uri": "https://localhost:8080/",
     "height": 34
    },
    "colab_type": "code",
    "id": "L8W2fg1cyGdX",
    "outputId": "029d4c84-03b2-4143-a04c-34ff49c88890"
   },
   "outputs": [
    {
     "data": {
      "text/plain": [
       "((50000, 15), (50000,))"
      ]
     },
     "execution_count": 428,
     "metadata": {},
     "output_type": "execute_result"
    }
   ],
   "source": [
    "X.shape, y.shape"
   ]
  },
  {
   "cell_type": "code",
   "execution_count": 5,
   "metadata": {
    "colab": {},
    "colab_type": "code",
    "id": "0Kh4dBfVyJMP"
   },
   "outputs": [],
   "source": [
    "\n",
    "X_train, X_test, y_train, y_test = train_test_split(X, y, test_size=0.25, stratify=y)"
   ]
  },
  {
   "cell_type": "code",
   "execution_count": 6,
   "metadata": {
    "colab": {},
    "colab_type": "code",
    "id": "gONY1YiDq7jD"
   },
   "outputs": [],
   "source": [
    "\n",
    "scaler = StandardScaler()\n",
    "x_train = scaler.fit_transform(X_train)\n",
    "x_test = scaler.transform(X_test)"
   ]
  },
  {
   "cell_type": "code",
   "execution_count": 7,
   "metadata": {
    "colab": {
     "base_uri": "https://localhost:8080/",
     "height": 34
    },
    "colab_type": "code",
    "id": "0DR_YMBsyOci",
    "outputId": "732014d9-1731-4d3f-918f-a9f5255ee149"
   },
   "outputs": [
    {
     "data": {
      "text/plain": [
       "((37500, 15), (37500,), (12500, 15), (12500,))"
      ]
     },
     "execution_count": 7,
     "metadata": {},
     "output_type": "execute_result"
    }
   ],
   "source": [
    "X_train.shape, y_train.shape, X_test.shape, y_test.shape"
   ]
  },
  {
   "cell_type": "code",
   "execution_count": 8,
   "metadata": {
    "colab": {
     "base_uri": "https://localhost:8080/",
     "height": 118
    },
    "colab_type": "code",
    "id": "3HpvTwDHyQQy",
    "outputId": "5729f08c-079a-4b17-bf51-f9aeb5abb13b"
   },
   "outputs": [
    {
     "data": {
      "text/plain": [
       "SGDClassifier(eta0=0.0001, learning_rate='constant', loss='log',\n",
       "              random_state=15, verbose=2)"
      ]
     },
     "execution_count": 8,
     "metadata": {},
     "output_type": "execute_result"
    }
   ],
   "source": [
    "\n",
    "\n",
    "clf = linear_model.SGDClassifier(eta0=0.0001, alpha=0.0001, loss='log', random_state=15, penalty='l2', tol=1e-3, verbose=2, learning_rate='constant')\n",
    "clf\n"
   ]
  },
  {
   "cell_type": "code",
   "execution_count": 10,
   "metadata": {
    "colab": {
     "base_uri": "https://localhost:8080/",
     "height": 638
    },
    "colab_type": "code",
    "id": "YYaVyQ2lyXcr",
    "outputId": "dc0bf840-b37e-4552-e513-84b64f6c64c4"
   },
   "outputs": [
    {
     "name": "stdout",
     "output_type": "stream",
     "text": [
      "-- Epoch 1\n",
      "Norm: 0.76, NNZs: 15, Bias: -0.316130, T: 37500, Avg. loss: 0.456770\n",
      "Total training time: 0.01 seconds.\n",
      "-- Epoch 2\n",
      "Norm: 0.91, NNZs: 15, Bias: -0.476828, T: 75000, Avg. loss: 0.395862\n",
      "Total training time: 0.01 seconds.\n",
      "-- Epoch 3\n",
      "Norm: 0.97, NNZs: 15, Bias: -0.588118, T: 112500, Avg. loss: 0.386856\n",
      "Total training time: 0.02 seconds.\n",
      "-- Epoch 4\n",
      "Norm: 1.01, NNZs: 15, Bias: -0.667250, T: 150000, Avg. loss: 0.383443\n",
      "Total training time: 0.02 seconds.\n",
      "-- Epoch 5\n",
      "Norm: 1.03, NNZs: 15, Bias: -0.726549, T: 187500, Avg. loss: 0.381825\n",
      "Total training time: 0.02 seconds.\n",
      "-- Epoch 6\n",
      "Norm: 1.04, NNZs: 15, Bias: -0.769133, T: 225000, Avg. loss: 0.380862\n",
      "Total training time: 0.03 seconds.\n",
      "-- Epoch 7\n",
      "Norm: 1.05, NNZs: 15, Bias: -0.801827, T: 262500, Avg. loss: 0.380467\n",
      "Total training time: 0.03 seconds.\n",
      "-- Epoch 8\n",
      "Norm: 1.05, NNZs: 15, Bias: -0.827575, T: 300000, Avg. loss: 0.380167\n",
      "Total training time: 0.04 seconds.\n",
      "-- Epoch 9\n",
      "Norm: 1.06, NNZs: 15, Bias: -0.846799, T: 337500, Avg. loss: 0.380044\n",
      "Total training time: 0.04 seconds.\n",
      "-- Epoch 10\n",
      "Norm: 1.06, NNZs: 15, Bias: -0.860313, T: 375000, Avg. loss: 0.379963\n",
      "Total training time: 0.05 seconds.\n",
      "Convergence after 10 epochs took 0.05 seconds\n"
     ]
    },
    {
     "data": {
      "text/plain": [
       "SGDClassifier(eta0=0.0001, learning_rate='constant', loss='log',\n",
       "              random_state=15, verbose=2)"
      ]
     },
     "execution_count": 10,
     "metadata": {},
     "output_type": "execute_result"
    }
   ],
   "source": [
    "clf.fit(X=X_train, y=y_train) "
   ]
  },
  {
   "cell_type": "code",
   "execution_count": 11,
   "metadata": {
    "colab": {
     "base_uri": "https://localhost:8080/",
     "height": 101
    },
    "colab_type": "code",
    "id": "EAfkVI6GyaRO",
    "outputId": "bc88f920-6531-4106-9b4c-4dabb6d72b47"
   },
   "outputs": [
    {
     "data": {
      "text/plain": [
       "(array([[-0.42197358,  0.17755085, -0.14802932,  0.33585513, -0.20109342,\n",
       "          0.56054998, -0.43735215, -0.08422888,  0.22158259,  0.18265604,\n",
       "          0.18154486,  0.00304848, -0.07268168,  0.32830753,  0.02834674]]),\n",
       " (1, 15),\n",
       " array([-0.86031346]))"
      ]
     },
     "execution_count": 11,
     "metadata": {},
     "output_type": "execute_result"
    }
   ],
   "source": [
    "clf.coef_, clf.coef_.shape, clf.intercept_\n"
   ]
  },
  {
   "cell_type": "markdown",
   "metadata": {},
   "source": [
    "<h4>Now we start implementing our custom made Logistic Regression using SGD</h4>"
   ]
  },
  {
   "cell_type": "code",
   "execution_count": 12,
   "metadata": {
    "colab": {},
    "colab_type": "code",
    "id": "GecwYV9fsKZ9"
   },
   "outputs": [
    {
     "name": "stdout",
     "output_type": "stream",
     "text": [
      "(15,)\n"
     ]
    }
   ],
   "source": [
    "def initialize_weights(dim):\n",
    "    w = np.zeros_like(dim)\n",
    "    b = 0\n",
    "    \n",
    "\n",
    "    \n",
    "    return w,b\n",
    "\n",
    "w,b =initialize_weights(X_train[0])\n",
    "print(np.shape(w))\n"
   ]
  },
  {
   "cell_type": "code",
   "execution_count": 13,
   "metadata": {
    "colab": {},
    "colab_type": "code",
    "id": "A7I6uWBRsKc4"
   },
   "outputs": [
    {
     "name": "stdout",
     "output_type": "stream",
     "text": [
      "w = [0. 0. 0. 0. 0. 0. 0. 0. 0. 0. 0. 0. 0. 0. 0.]\n",
      "b = 0\n"
     ]
    }
   ],
   "source": [
    "dim=X_train[0] \n",
    "w,b = initialize_weights(dim)\n",
    "print('w =',(w))\n",
    "print('b =',str(b))"
   ]
  },
  {
   "cell_type": "code",
   "execution_count": 14,
   "metadata": {
    "colab": {},
    "colab_type": "code",
    "id": "nAfmQF47_Sd6"
   },
   "outputs": [],
   "source": [
    "import math\n",
    "def sigmoid(z):\n",
    "    sig = 1/(1+ math.exp(-z))\n",
    "    \n",
    "\n",
    "    return sig"
   ]
  },
  {
   "cell_type": "code",
   "execution_count": 15,
   "metadata": {
    "colab": {},
    "colab_type": "code",
    "id": "VaFDgsp3sKi6"
   },
   "outputs": [],
   "source": [
    "def logloss(y_true,y_pred):\n",
    "    '''In this function, we will compute log loss '''\n",
    "    loss1 = 0\n",
    "    for i in range(0, len(y_true)):\n",
    "        loss_instance = (y_true[i]* math.log10(y_pred[i])+ (1-y_true[i])*math.log10(1 - y_pred[i]))\n",
    "        loss1 = loss1 + loss_instance\n",
    "    loss = (-1*loss1)/len(y_true)\n",
    "    return loss\n"
   ]
  },
  {
   "cell_type": "code",
   "execution_count": 17,
   "metadata": {
    "colab": {},
    "colab_type": "code",
    "id": "NMVikyuFsKo5"
   },
   "outputs": [],
   "source": [
    "def gradient_dw(x,y,w,b,alpha,N):\n",
    "   \n",
    "    \n",
    "    dw1 = np.dot(w, x.T) + b\n",
    "    dw2 = y - sigmoid(dw1)\n",
    "    dw3 = np.dot(x,dw2)\n",
    "    dw = dw3 - np.dot(alpha/N, w)\n",
    "    \n",
    "    return dw\n",
    " \n"
   ]
  },
  {
   "cell_type": "code",
   "execution_count": 22,
   "metadata": {
    "colab": {},
    "colab_type": "code",
    "id": "0nUf2ft4EZp8"
   },
   "outputs": [],
   "source": [
    "def gradient_db(x,y,w,b): \n",
    "        \n",
    "        db1 = np.dot(w,x.T) + b\n",
    "        db2 = sigmoid(db1)\n",
    "        db = y - db2 \n",
    "        \n",
    "        return db\n",
    "    \n",
    "        \n",
    "     "
   ]
  },
  {
   "cell_type": "code",
   "execution_count": 23,
   "metadata": {
    "colab": {},
    "colab_type": "code",
    "id": "TfFDKmscG5qZ"
   },
   "outputs": [
    {
     "data": {
      "text/plain": [
       "True"
      ]
     },
     "execution_count": 23,
     "metadata": {},
     "output_type": "execute_result"
    }
   ],
   "source": [
    "def grader_db(x,y,w,b):\n",
    "  grad_db=gradient_db(x,y,w,b)\n",
    "  assert(grad_db==-0.5)\n",
    "  return True\n",
    "grad_x=np.array([-2.07864835,  3.31604252, -0.79104357, -3.87045546, -1.14783286,-2.81434437, -0.86771071, -0.04073287,  0.84827878,  1.99451725,3.67152472,  0.01451875,  2.01062888,\n",
    "0.07373904, -5.54586092])\n",
    "grad_y=0\n",
    "grad_w,grad_b=initialize_weights(grad_x)\n",
    "alpha=0.0001\n",
    "N=len(X_train)\n",
    "grader_db(grad_x,grad_y,grad_w,grad_b)"
   ]
  },
  {
   "cell_type": "code",
   "execution_count": 36,
   "metadata": {
    "colab": {},
    "colab_type": "code",
    "id": "dmAdc5ejEZ25"
   },
   "outputs": [],
   "source": [
    "def train(X_train,y_train,X_test,y_test,epochs,alpha,eta0):\n",
    "    w,b = initialize_weights(X_train[0])\n",
    "    epoch_number = []\n",
    "    train_loss = []\n",
    "    test_loss = []\n",
    "    for k in range(0,epochs):\n",
    "        \n",
    "        epoch_number.append(k)\n",
    "        for i in range(0,N):\n",
    "            dw = gradient_dw(X_train[i], y_train[i], w, b, alpha, len(X_train))\n",
    "            db = gradient_db(X_train[i], y_train[i], w, b)\n",
    "            w = w + (eta0*dw)\n",
    "            b = b + (eta0*db)\n",
    "        y_pred_train = [0 for i in range(N)]\n",
    "        for i in range(0,N):\n",
    "            y_pred_train[i] = sigmoid(np.dot(w,X_train[i].T)+b)  \n",
    "            \n",
    "        loss_train = logloss(y_train,y_pred_train)\n",
    "        train_loss.append(loss_train)\n",
    "        print(\"Epoch number \",k)\n",
    "        print(\"Loss train\",loss_train)\n",
    "        y_pred_test = [0 for i in range(len(y_test))]\n",
    "        for i in range(0,len(X_test)):\n",
    "            y_pred_test[i] = sigmoid(np.dot(w,X_test[i].T)+b)\n",
    "        loss_test = logloss(y_test,y_pred_test)\n",
    "        test_loss.append(loss_test)\n",
    "        print(\"Loss Test\",loss_test)\n",
    "        print(100*\"=\")\n",
    "    \n",
    "   \n",
    "    \n",
    "        \n",
    "    return w,b,epoch_number, train_loss, test_loss"
   ]
  },
  {
   "cell_type": "code",
   "execution_count": 37,
   "metadata": {
    "colab": {},
    "colab_type": "code",
    "id": "sUquz7LFEZ6E"
   },
   "outputs": [
    {
     "name": "stdout",
     "output_type": "stream",
     "text": [
      "Epoch number  0\n",
      "Loss train 0.17603563250170023\n",
      "Loss Test 0.17483126548515954\n",
      "====================================================================================================\n",
      "Epoch number  1\n",
      "Loss train 0.169253466920771\n",
      "Loss Test 0.1678232773887034\n",
      "====================================================================================================\n",
      "Epoch number  2\n",
      "Loss train 0.16697029331536084\n",
      "Loss Test 0.1655028547849492\n",
      "====================================================================================================\n",
      "Epoch number  3\n",
      "Loss train 0.16594160983629203\n",
      "Loss Test 0.16448570694661077\n",
      "====================================================================================================\n",
      "Epoch number  4\n",
      "Loss train 0.16542612294311743\n",
      "Loss Test 0.16399333059778456\n",
      "====================================================================================================\n",
      "Epoch number  5\n",
      "Loss train 0.1651543834332655\n",
      "Loss Test 0.16374490289232158\n",
      "====================================================================================================\n",
      "Epoch number  6\n",
      "Loss train 0.16500711021794334\n",
      "Loss Test 0.16361775792273955\n",
      "====================================================================================================\n",
      "Epoch number  7\n",
      "Loss train 0.1649259366193317\n",
      "Loss Test 0.1635528930120513\n",
      "====================================================================================================\n",
      "Epoch number  8\n",
      "Loss train 0.16488068851940565\n",
      "Loss Test 0.16352044372323646\n",
      "====================================================================================================\n",
      "Epoch number  9\n",
      "Loss train 0.16485525801831058\n",
      "Loss Test 0.1635048819310348\n",
      "====================================================================================================\n",
      "Epoch number  10\n",
      "Loss train 0.1648408722228886\n",
      "Loss Test 0.16349802851408593\n",
      "====================================================================================================\n",
      "Epoch number  11\n",
      "Loss train 0.16483268875262544\n",
      "Loss Test 0.16349556020168513\n",
      "====================================================================================================\n",
      "Epoch number  12\n",
      "Loss train 0.16482800923445634\n",
      "Loss Test 0.16349520230275613\n",
      "====================================================================================================\n",
      "Epoch number  13\n",
      "Loss train 0.16482531928572094\n",
      "Loss Test 0.16349577413214855\n",
      "====================================================================================================\n",
      "Epoch number  14\n",
      "Loss train 0.16482376422810643\n",
      "Loss Test 0.16349667864031905\n",
      "====================================================================================================\n",
      "Epoch number  15\n",
      "Loss train 0.16482285945254108\n",
      "Loss Test 0.16349762783373895\n",
      "====================================================================================================\n",
      "Epoch number  16\n",
      "Loss train 0.1648223290485833\n",
      "Loss Test 0.16349849485327536\n",
      "====================================================================================================\n",
      "Epoch number  17\n",
      "Loss train 0.16482201531275742\n",
      "Loss Test 0.1634992345639163\n",
      "====================================================================================================\n",
      "Epoch number  18\n",
      "Loss train 0.16482182774556348\n",
      "Loss Test 0.16349984131262219\n",
      "====================================================================================================\n",
      "Epoch number  19\n",
      "Loss train 0.16482171418683506\n",
      "Loss Test 0.16350032683258564\n",
      "====================================================================================================\n",
      "Epoch number  20\n",
      "Loss train 0.1648216444233773\n",
      "Loss Test 0.16350070901236813\n",
      "====================================================================================================\n",
      "Epoch number  21\n",
      "Loss train 0.16482160085074746\n",
      "Loss Test 0.16350100646411275\n",
      "====================================================================================================\n",
      "Epoch number  22\n",
      "Loss train 0.16482157313783125\n",
      "Loss Test 0.16350123613254966\n",
      "====================================================================================================\n",
      "Epoch number  23\n",
      "Loss train 0.1648215551691603\n",
      "Loss Test 0.1635014124520796\n",
      "====================================================================================================\n",
      "Epoch number  24\n",
      "Loss train 0.16482154328675416\n",
      "Loss Test 0.16350154725317553\n",
      "====================================================================================================\n",
      "Epoch number  25\n",
      "Loss train 0.16482153527526813\n",
      "Loss Test 0.16350164999850103\n",
      "====================================================================================================\n",
      "Epoch number  26\n",
      "Loss train 0.1648215297735051\n",
      "Loss Test 0.1635017281348398\n",
      "====================================================================================================\n",
      "Epoch number  27\n",
      "Loss train 0.16482152593126628\n",
      "Loss Test 0.16350178745723035\n",
      "====================================================================================================\n",
      "Epoch number  28\n",
      "Loss train 0.16482152320783122\n",
      "Loss Test 0.16350183243977018\n",
      "====================================================================================================\n",
      "Epoch number  29\n",
      "Loss train 0.16482152125265243\n",
      "Loss Test 0.16350186651712037\n",
      "====================================================================================================\n",
      "Epoch number  30\n",
      "Loss train 0.16482151983394752\n",
      "Loss Test 0.1635018923150949\n",
      "====================================================================================================\n",
      "Epoch number  31\n",
      "Loss train 0.1648215187954728\n",
      "Loss Test 0.16350191183505522\n",
      "====================================================================================================\n",
      "Epoch number  32\n",
      "Loss train 0.16482151802995415\n",
      "Loss Test 0.16350192659899565\n",
      "====================================================================================================\n",
      "Epoch number  33\n",
      "Loss train 0.16482151746248017\n",
      "Loss Test 0.16350193776242927\n",
      "====================================================================================================\n",
      "Epoch number  34\n",
      "Loss train 0.16482151703996753\n",
      "Loss Test 0.16350194620155314\n",
      "====================================================================================================\n",
      "Epoch number  35\n",
      "Loss train 0.16482151672431103\n",
      "Loss Test 0.16350195258013986\n",
      "====================================================================================================\n",
      "Epoch number  36\n",
      "Loss train 0.16482151648786106\n",
      "Loss Test 0.16350195740069576\n",
      "====================================================================================================\n",
      "Epoch number  37\n",
      "Loss train 0.16482151631038622\n",
      "Loss Test 0.16350196104344253\n",
      "====================================================================================================\n",
      "Epoch number  38\n",
      "Loss train 0.16482151617696725\n",
      "Loss Test 0.16350196379595772\n",
      "====================================================================================================\n",
      "Epoch number  39\n",
      "Loss train 0.16482151607655054\n",
      "Loss Test 0.16350196587568958\n",
      "====================================================================================================\n",
      "Epoch number  40\n",
      "Loss train 0.16482151600090209\n",
      "Loss Test 0.163501967447019\n",
      "====================================================================================================\n",
      "Epoch number  41\n",
      "Loss train 0.16482151594387862\n",
      "Loss Test 0.1635019686341915\n",
      "====================================================================================================\n",
      "Epoch number  42\n",
      "Loss train 0.16482151590086994\n",
      "Loss Test 0.16350196953110616\n",
      "====================================================================================================\n",
      "Epoch number  43\n",
      "Loss train 0.16482151586841626\n",
      "Loss Test 0.1635019702087173\n",
      "====================================================================================================\n",
      "Epoch number  44\n",
      "Loss train 0.1648215158439225\n",
      "Loss Test 0.1635019707206384\n",
      "====================================================================================================\n",
      "Epoch number  45\n",
      "Loss train 0.16482151582543259\n",
      "Loss Test 0.1635019711073817\n",
      "====================================================================================================\n",
      "Epoch number  46\n",
      "Loss train 0.16482151581147125\n",
      "Loss Test 0.16350197139955397\n",
      "====================================================================================================\n",
      "Epoch number  47\n",
      "Loss train 0.16482151580092816\n",
      "Loss Test 0.16350197162028052\n",
      "====================================================================================================\n",
      "Epoch number  48\n",
      "Loss train 0.16482151579296608\n",
      "Loss Test 0.16350197178702966\n",
      "====================================================================================================\n",
      "Epoch number  49\n",
      "Loss train 0.16482151578695317\n",
      "Loss Test 0.16350197191300234\n",
      "====================================================================================================\n"
     ]
    }
   ],
   "source": [
    "alpha=0.0001\n",
    "eta0=0.0001\n",
    "N=len(X_train)\n",
    "epochs=50\n",
    "w,b,epoch_number, train_loss, test_loss=train(X_train,y_train,X_test,y_test,epochs,alpha,eta0)\n"
   ]
  },
  {
   "cell_type": "code",
   "execution_count": 38,
   "metadata": {
    "colab": {},
    "colab_type": "code",
    "id": "nx8Rs9rfEZ1R"
   },
   "outputs": [
    {
     "name": "stdout",
     "output_type": "stream",
     "text": [
      "Difference in weight vector and intercept:\n"
     ]
    },
    {
     "data": {
      "text/plain": [
       "(array([[-1.14882430e-02, -4.75734194e-05, -1.01219114e-03,\n",
       "         -6.98063402e-03, -1.42415593e-02, -3.69510718e-04,\n",
       "         -3.88601156e-03,  2.81668369e-03, -3.19929042e-03,\n",
       "          2.38949614e-03,  8.00930605e-03, -6.08677645e-03,\n",
       "         -7.58179462e-03, -2.54515866e-03,  1.92687284e-03]]),\n",
       " array([-0.03850128]))"
      ]
     },
     "execution_count": 38,
     "metadata": {},
     "output_type": "execute_result"
    }
   ],
   "source": [
    "\n",
    "print(\"Difference in weight vector and intercept:\")\n",
    "w-clf.coef_, b-clf.intercept_\n"
   ]
  },
  {
   "cell_type": "markdown",
   "metadata": {},
   "source": [
    "<h3>In the above we can see that the difference in coefficients from sklearn's algorithm and the custom implemented algorithm is very less and this should assert that the custom implementation is working properly</h3>"
   ]
  },
  {
   "cell_type": "code",
   "execution_count": 39,
   "metadata": {
    "colab": {},
    "colab_type": "code",
    "id": "1O6GrRt7UeCJ"
   },
   "outputs": [
    {
     "data": {
      "image/png": "[encoded data removed]",
      "text/plain": [
       "<Figure size 432x288 with 1 Axes>"
      ]
     },
     "metadata": {
      "needs_background": "light"
     },
     "output_type": "display_data"
    }
   ],
   "source": [
    "import matplotlib.pyplot as plt\n",
    "plt.plot(epoch_number,train_loss, label = \"Train loss\" )\n",
    "plt.plot(epoch_number,test_loss, label = \"Test Loss\")\n",
    "plt.legend()\n",
    "plt.xlabel(\"Epoch Number\")\n",
    "plt.ylabel(\"Loss\")\n",
    "plt.title(\"ERROR PLOTS\")\n",
    "plt.grid()\n",
    "plt.show()\n"
   ]
  },
  {
   "cell_type": "code",
   "execution_count": 40,
   "metadata": {
    "colab": {},
    "colab_type": "code",
    "id": "FUN8puFoEZtU"
   },
   "outputs": [
    {
     "name": "stdout",
     "output_type": "stream",
     "text": [
      "Train accuracy achieved through the custom implementation 0.9519466666666667\n",
      "Train accuracy achieved through the custom implementation 0.94584\n"
     ]
    }
   ],
   "source": [
    "def pred(w,b, X):\n",
    "    N = len(X)\n",
    "    predict = []\n",
    "    for i in range(N):\n",
    "        z=np.dot(w,X[i])+b\n",
    "        if sigmoid(z) >= 0.5: \n",
    "            predict.append(1)\n",
    "        else:\n",
    "            predict.append(0)\n",
    "    return np.array(predict)\n",
    "print(\"Train accuracy achieved through the custom implementation\",1-np.sum(y_train - pred(w,b,X_train))/len(X_train))\n",
    "print(\"Train accuracy achieved through the custom implementation\",1-np.sum(y_test  - pred(w,b,X_test))/len(X_test))"
   ]
  },
  {
   "cell_type": "code",
   "execution_count": null,
   "metadata": {
    "colab": {},
    "colab_type": "code",
    "id": "-k28U1xDsLIO"
   },
   "outputs": [],
   "source": []
  },
  {
   "cell_type": "code",
   "execution_count": null,
   "metadata": {
    "colab": {},
    "colab_type": "code",
    "id": "RMokBfs3-2PY"
   },
   "outputs": [],
   "source": []
  }
 ],
 "metadata": {
  "colab": {
   "collapsed_sections": [],
   "name": "Assignment.ipynb",
   "provenance": []
  },
  "kernelspec": {
   "display_name": "Python 3",
   "language": "python",
   "name": "python3"
  },
  "language_info": {
   "codemirror_mode": {
    "name": "ipython",
    "version": 3
   },
   "file_extension": ".py",
   "mimetype": "text/x-python",
   "name": "python",
   "nbconvert_exporter": "python",
   "pygments_lexer": "ipython3",
   "version": "3.9.7"
  }
 },
 "nbformat": 4,
 "nbformat_minor": 1
}
