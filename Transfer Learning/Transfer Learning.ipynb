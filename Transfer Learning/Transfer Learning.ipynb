{
 "cells": [
  {
   "cell_type": "code",
   "execution_count": 1,
   "metadata": {},
   "outputs": [],
   "source": [
    "import tensorflow as tf\n",
    "import os\n",
    "import pandas as pd\n",
    "import numpy as np"
   ]
  },
  {
   "cell_type": "code",
   "execution_count": 2,
   "metadata": {},
   "outputs": [
    {
     "name": "stdout",
     "output_type": "stream",
     "text": [
      "The number of categories here are: 16\n",
      "The labels are: [ 3  2  7  4  1 13  5  6  0 15 11  8 14 10 12  9]\n"
     ]
    }
   ],
   "source": [
    "data = pd.read_csv(\"labels_final.csv\")\n",
    "data.shape\n",
    "labels = data[\"label\"].unique()\n",
    "print(\"The number of categories here are:\", len(labels))\n",
    "print(\"The labels are:\", labels)"
   ]
  },
  {
   "cell_type": "code",
   "execution_count": 3,
   "metadata": {},
   "outputs": [
    {
     "name": "stdout",
     "output_type": "stream",
     "text": [
      "Found 33600 validated image filenames.\n",
      "Found 14400 validated image filenames.\n"
     ]
    }
   ],
   "source": [
    "#ref: https://vijayabhaskar96.medium.com/tutorial-on-keras-flow-from-dataframe-1fd4493d237c\n",
    "datagen = tf.keras.preprocessing.image.ImageDataGenerator(rescale = 1./255, validation_split = 0.3)\n",
    "train_data = datagen.flow_from_dataframe(dataframe = data, directory = \"data_final\", x_col = \"path\", y_col = \"label\", subset = \"training\", batch_size = 32, seed = 42, shuffle = True, class_mode = \"raw\", target_size = (224,224))\n",
    "valid_data = datagen.flow_from_dataframe(dataframe = data, directory = \"data_final\", x_col = \"path\", y_col = \"label\", subset = \"validation\", batch_size = 32, seed = 42, shuffle = True, class_mode = \"raw\", target_size = (224,224))\n"
   ]
  },
  {
   "cell_type": "code",
   "execution_count": 4,
   "metadata": {},
   "outputs": [
    {
     "name": "stdout",
     "output_type": "stream",
     "text": [
      "Model: \"model\"\n",
      "_________________________________________________________________\n",
      " Layer (type)                Output Shape              Param #   \n",
      "=================================================================\n",
      " input_1 (InputLayer)        [(None, 224, 224, 3)]     0         \n",
      "                                                                 \n",
      " block1_conv1 (Conv2D)       (None, 224, 224, 64)      1792      \n",
      "                                                                 \n",
      " block1_conv2 (Conv2D)       (None, 224, 224, 64)      36928     \n",
      "                                                                 \n",
      " block1_pool (MaxPooling2D)  (None, 112, 112, 64)      0         \n",
      "                                                                 \n",
      " block2_conv1 (Conv2D)       (None, 112, 112, 128)     73856     \n",
      "                                                                 \n",
      " block2_conv2 (Conv2D)       (None, 112, 112, 128)     147584    \n",
      "                                                                 \n",
      " block2_pool (MaxPooling2D)  (None, 56, 56, 128)       0         \n",
      "                                                                 \n",
      " block3_conv1 (Conv2D)       (None, 56, 56, 256)       295168    \n",
      "                                                                 \n",
      " block3_conv2 (Conv2D)       (None, 56, 56, 256)       590080    \n",
      "                                                                 \n",
      " block3_conv3 (Conv2D)       (None, 56, 56, 256)       590080    \n",
      "                                                                 \n",
      " block3_pool (MaxPooling2D)  (None, 28, 28, 256)       0         \n",
      "                                                                 \n",
      " block4_conv1 (Conv2D)       (None, 28, 28, 512)       1180160   \n",
      "                                                                 \n",
      " block4_conv2 (Conv2D)       (None, 28, 28, 512)       2359808   \n",
      "                                                                 \n",
      " block4_conv3 (Conv2D)       (None, 28, 28, 512)       2359808   \n",
      "                                                                 \n",
      " block4_pool (MaxPooling2D)  (None, 14, 14, 512)       0         \n",
      "                                                                 \n",
      " block5_conv1 (Conv2D)       (None, 14, 14, 512)       2359808   \n",
      "                                                                 \n",
      " block5_conv2 (Conv2D)       (None, 14, 14, 512)       2359808   \n",
      "                                                                 \n",
      " block5_conv3 (Conv2D)       (None, 14, 14, 512)       2359808   \n",
      "                                                                 \n",
      " block5_pool (MaxPooling2D)  (None, 7, 7, 512)         0         \n",
      "                                                                 \n",
      " conv2d (Conv2D)             (None, 5, 5, 64)          294976    \n",
      "                                                                 \n",
      " max_pooling2d (MaxPooling2D  (None, 2, 2, 64)         0         \n",
      " )                                                               \n",
      "                                                                 \n",
      " dense (Dense)               (None, 2, 2, 64)          4160      \n",
      "                                                                 \n",
      " dense_1 (Dense)             (None, 2, 2, 64)          4160      \n",
      "                                                                 \n",
      " flatten (Flatten)           (None, 256)               0         \n",
      "                                                                 \n",
      " dense_2 (Dense)             (None, 16)                4112      \n",
      "                                                                 \n",
      "=================================================================\n",
      "Total params: 15,022,096\n",
      "Trainable params: 307,408\n",
      "Non-trainable params: 14,714,688\n",
      "_________________________________________________________________\n"
     ]
    }
   ],
   "source": [
    "\n",
    "\n",
    "image_size = [224,224]\n",
    "from tensorflow.keras.layers import Dense,concatenate,Activation,Dropout,Input,LSTM, MaxPooling2D,Conv2D,Embedding,Flatten\n",
    "from tensorflow.keras.preprocessing import sequence\n",
    "from tensorflow.keras.models import Model\n",
    "\n",
    "tf.keras.backend.clear_session()\n",
    "vgg1 = tf.keras.applications.VGG16(include_top = False, weights = 'imagenet', input_shape = image_size + [3])\n",
    "for layers in vgg1.layers:\n",
    "    layers.trainable = False   \n",
    "layer1 = Conv2D(64,(3,3))(vgg1.output)\n",
    "layer2 = MaxPooling2D()(layer1)\n",
    "layer3 = Dense(64, activation ='relu')(layer2)\n",
    "layer4 = Dense(64, activation = 'relu')(layer3)\n",
    "flatten = Flatten()(layer4)\n",
    "Output = Dense(16, activation = 'softmax')(flatten)\n",
    "\n",
    "model = Model(inputs = vgg1.input, outputs = Output)\n",
    "model.summary()\n"
   ]
  },
  {
   "cell_type": "code",
   "execution_count": 7,
   "metadata": {},
   "outputs": [
    {
     "name": "stdout",
     "output_type": "stream",
     "text": [
      "Epoch 1/5\n"
     ]
    },
    {
     "name": "stderr",
     "output_type": "stream",
     "text": [
      "C:\\Users\\THISPC~1\\AppData\\Local\\Temp/ipykernel_11952/467474330.py:7: UserWarning: `Model.fit_generator` is deprecated and will be removed in a future version. Please use `Model.fit`, which supports generators.\n",
      "  history1 = model.fit_generator(generator = train_data, steps_per_epoch = step_size_train, validation_data = valid_data, validation_steps = step_size_val, epochs = 5, callbacks=[tb_model])\n"
     ]
    },
    {
     "name": "stdout",
     "output_type": "stream",
     "text": [
      "1050/1050 [==============================] - 298s 283ms/step - loss: 1.4318 - accuracy: 0.5614 - val_loss: 1.1688 - val_accuracy: 0.6524\n",
      "Epoch 2/5\n",
      "1050/1050 [==============================] - 300s 285ms/step - loss: 1.0697 - accuracy: 0.6772 - val_loss: 1.1395 - val_accuracy: 0.6611\n",
      "Epoch 3/5\n",
      "1050/1050 [==============================] - 300s 285ms/step - loss: 0.9201 - accuracy: 0.7208 - val_loss: 1.0927 - val_accuracy: 0.6799\n",
      "Epoch 4/5\n",
      "1050/1050 [==============================] - 300s 286ms/step - loss: 0.8035 - accuracy: 0.7549 - val_loss: 1.0556 - val_accuracy: 0.6914\n",
      "Epoch 5/5\n",
      "1050/1050 [==============================] - 297s 283ms/step - loss: 0.7006 - accuracy: 0.7854 - val_loss: 1.0773 - val_accuracy: 0.6958\n"
     ]
    }
   ],
   "source": [
    "#ref:#ref: https://vijayabhaskar96.medium.com/tutorial-on-keras-flow-from-dataframe-1fd4493d237c\n",
    "optimizer = tf.keras.optimizers.Adam(learning_rate = 0.001)\n",
    "tb_model = tf.keras.callbacks.TensorBoard(log_dir = \"logs_model/\", histogram_freq = 0)\n",
    "model.compile(optimizer = optimizer, loss= tf.keras.losses.SparseCategoricalCrossentropy(), metrics = ['accuracy'])\n",
    "step_size_train = train_data.n//train_data.batch_size\n",
    "step_size_val = valid_data.n//valid_data.batch_size\n",
    "history1 = model.fit_generator(generator = train_data, steps_per_epoch = step_size_train, validation_data = valid_data, validation_steps = step_size_val, epochs = 5, callbacks=[tb_model])"
   ]
  },
  {
   "cell_type": "code",
   "execution_count": null,
   "metadata": {},
   "outputs": [],
   "source": []
  }
 ],
 "metadata": {
  "colab": {
   "collapsed_sections": [],
   "name": "Transfer Learning.ipynb",
   "provenance": [],
   "toc_visible": true
  },
  "kernelspec": {
   "display_name": "Python 3",
   "language": "python",
   "name": "python3"
  },
  "language_info": {
   "codemirror_mode": {
    "name": "ipython",
    "version": 3
   },
   "file_extension": ".py",
   "mimetype": "text/x-python",
   "name": "python",
   "nbconvert_exporter": "python",
   "pygments_lexer": "ipython3",
   "version": "3.9.7"
  }
 },
 "nbformat": 4,
 "nbformat_minor": 1
}
